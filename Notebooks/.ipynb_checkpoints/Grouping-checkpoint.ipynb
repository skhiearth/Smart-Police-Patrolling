{
 "cells": [
  {
   "cell_type": "code",
   "execution_count": 1,
   "metadata": {},
   "outputs": [],
   "source": [
    "# Importing required libraries\n",
    "import pandas as pd\n",
    "import numpy as np\n",
    "import matplotlib.pyplot as plt"
   ]
  },
  {
   "cell_type": "code",
   "execution_count": 9,
   "metadata": {},
   "outputs": [
    {
     "data": {
      "text/html": [
       "<div>\n",
       "<style scoped>\n",
       "    .dataframe tbody tr th:only-of-type {\n",
       "        vertical-align: middle;\n",
       "    }\n",
       "\n",
       "    .dataframe tbody tr th {\n",
       "        vertical-align: top;\n",
       "    }\n",
       "\n",
       "    .dataframe thead th {\n",
       "        text-align: right;\n",
       "    }\n",
       "</style>\n",
       "<table border=\"1\" class=\"dataframe\">\n",
       "  <thead>\n",
       "    <tr style=\"text-align: right;\">\n",
       "      <th></th>\n",
       "      <th>precinct</th>\n",
       "      <th>borough</th>\n",
       "      <th>date</th>\n",
       "      <th>time</th>\n",
       "      <th>successful</th>\n",
       "      <th>latitude</th>\n",
       "      <th>longitude</th>\n",
       "    </tr>\n",
       "  </thead>\n",
       "  <tbody>\n",
       "    <tr>\n",
       "      <td>0</td>\n",
       "      <td>113</td>\n",
       "      <td>QUEENS</td>\n",
       "      <td>06/30/2018</td>\n",
       "      <td>23:30:00</td>\n",
       "      <td>COMPLETED</td>\n",
       "      <td>40.683786</td>\n",
       "      <td>-73.769746</td>\n",
       "    </tr>\n",
       "    <tr>\n",
       "      <td>1</td>\n",
       "      <td>115</td>\n",
       "      <td>QUEENS</td>\n",
       "      <td>06/30/2018</td>\n",
       "      <td>23:20:00</td>\n",
       "      <td>COMPLETED</td>\n",
       "      <td>40.756298</td>\n",
       "      <td>-73.878397</td>\n",
       "    </tr>\n",
       "    <tr>\n",
       "      <td>2</td>\n",
       "      <td>94</td>\n",
       "      <td>BROOKLYN</td>\n",
       "      <td>06/30/2018</td>\n",
       "      <td>23:09:00</td>\n",
       "      <td>COMPLETED</td>\n",
       "      <td>40.726965</td>\n",
       "      <td>-73.953117</td>\n",
       "    </tr>\n",
       "    <tr>\n",
       "      <td>3</td>\n",
       "      <td>41</td>\n",
       "      <td>BRONX</td>\n",
       "      <td>06/30/2018</td>\n",
       "      <td>23:00:00</td>\n",
       "      <td>COMPLETED</td>\n",
       "      <td>40.824519</td>\n",
       "      <td>-73.897849</td>\n",
       "    </tr>\n",
       "    <tr>\n",
       "      <td>4</td>\n",
       "      <td>43</td>\n",
       "      <td>BRONX</td>\n",
       "      <td>06/30/2018</td>\n",
       "      <td>23:00:00</td>\n",
       "      <td>COMPLETED</td>\n",
       "      <td>40.822552</td>\n",
       "      <td>-73.867003</td>\n",
       "    </tr>\n",
       "  </tbody>\n",
       "</table>\n",
       "</div>"
      ],
      "text/plain": [
       "   precinct   borough        date      time successful   latitude  longitude\n",
       "0       113    QUEENS  06/30/2018  23:30:00  COMPLETED  40.683786 -73.769746\n",
       "1       115    QUEENS  06/30/2018  23:20:00  COMPLETED  40.756298 -73.878397\n",
       "2        94  BROOKLYN  06/30/2018  23:09:00  COMPLETED  40.726965 -73.953117\n",
       "3        41     BRONX  06/30/2018  23:00:00  COMPLETED  40.824519 -73.897849\n",
       "4        43     BRONX  06/30/2018  23:00:00  COMPLETED  40.822552 -73.867003"
      ]
     },
     "execution_count": 9,
     "metadata": {},
     "output_type": "execute_result"
    }
   ],
   "source": [
    "# Load the data\n",
    "df = pd.read_csv('../Dataset/nypd_complaints_clean.csv')\n",
    "df = df.drop(df.columns[0], axis=1) # Drop the first column\n",
    "df.head()"
   ]
  },
  {
   "cell_type": "code",
   "execution_count": 53,
   "metadata": {},
   "outputs": [],
   "source": [
    "# Fix data points with errors in year\n",
    "df = df.replace(to_replace ='1018', value = '2018', regex = True) \n",
    "df = df.replace(to_replace ='1028', value = '2018', regex = True) \n",
    "df = df.replace(to_replace ='1017', value = '2017', regex = True) \n",
    "df = df.replace(to_replace ='1016', value = '2016', regex = True) \n",
    "df = df.replace(to_replace ='1025', value = '2015', regex = True) "
   ]
  },
  {
   "cell_type": "code",
   "execution_count": 54,
   "metadata": {},
   "outputs": [
    {
     "data": {
      "text/plain": [
       "0        2018-06-30\n",
       "1        2018-06-30\n",
       "2        2018-06-30\n",
       "3        2018-06-30\n",
       "4        2018-06-30\n",
       "            ...    \n",
       "228886   2018-01-09\n",
       "228887   2000-06-09\n",
       "228888   2018-01-06\n",
       "228889   2018-01-03\n",
       "228890   2018-01-01\n",
       "Name: date, Length: 228891, dtype: datetime64[ns]"
      ]
     },
     "execution_count": 54,
     "metadata": {},
     "output_type": "execute_result"
    }
   ],
   "source": [
    "# Convert `date` column to Pandas' Datetime format\n",
    "pd.to_datetime(df['date'], format='%m/%d/%Y')"
   ]
  },
  {
   "cell_type": "code",
   "execution_count": 61,
   "metadata": {},
   "outputs": [
    {
     "data": {
      "text/html": [
       "<div>\n",
       "<style scoped>\n",
       "    .dataframe tbody tr th:only-of-type {\n",
       "        vertical-align: middle;\n",
       "    }\n",
       "\n",
       "    .dataframe tbody tr th {\n",
       "        vertical-align: top;\n",
       "    }\n",
       "\n",
       "    .dataframe thead th {\n",
       "        text-align: right;\n",
       "    }\n",
       "</style>\n",
       "<table border=\"1\" class=\"dataframe\">\n",
       "  <thead>\n",
       "    <tr style=\"text-align: right;\">\n",
       "      <th></th>\n",
       "      <th>precinct</th>\n",
       "      <th>borough</th>\n",
       "      <th>date</th>\n",
       "      <th>time</th>\n",
       "      <th>successful</th>\n",
       "      <th>latitude</th>\n",
       "      <th>longitude</th>\n",
       "      <th>year</th>\n",
       "      <th>month</th>\n",
       "    </tr>\n",
       "  </thead>\n",
       "  <tbody>\n",
       "    <tr>\n",
       "      <td>0</td>\n",
       "      <td>113</td>\n",
       "      <td>QUEENS</td>\n",
       "      <td>06/30/2018</td>\n",
       "      <td>23:30:00</td>\n",
       "      <td>COMPLETED</td>\n",
       "      <td>40.683786</td>\n",
       "      <td>-73.769746</td>\n",
       "      <td>2018</td>\n",
       "      <td>6</td>\n",
       "    </tr>\n",
       "    <tr>\n",
       "      <td>1</td>\n",
       "      <td>115</td>\n",
       "      <td>QUEENS</td>\n",
       "      <td>06/30/2018</td>\n",
       "      <td>23:20:00</td>\n",
       "      <td>COMPLETED</td>\n",
       "      <td>40.756298</td>\n",
       "      <td>-73.878397</td>\n",
       "      <td>2018</td>\n",
       "      <td>6</td>\n",
       "    </tr>\n",
       "  </tbody>\n",
       "</table>\n",
       "</div>"
      ],
      "text/plain": [
       "   precinct borough        date      time successful   latitude  longitude  \\\n",
       "0       113  QUEENS  06/30/2018  23:30:00  COMPLETED  40.683786 -73.769746   \n",
       "1       115  QUEENS  06/30/2018  23:20:00  COMPLETED  40.756298 -73.878397   \n",
       "\n",
       "   year  month  \n",
       "0  2018      6  \n",
       "1  2018      6  "
      ]
     },
     "execution_count": 61,
     "metadata": {},
     "output_type": "execute_result"
    }
   ],
   "source": [
    "# Extract year and month to new columns\n",
    "df['year'] = pd.DatetimeIndex(df['date']).year\n",
    "df['month'] = pd.DatetimeIndex(df['date']).month\n",
    "df.head(2)"
   ]
  }
 ],
 "metadata": {
  "kernelspec": {
   "display_name": "Python 3.7.4 64-bit ('base': conda)",
   "language": "python",
   "name": "python37464bitbaseconda3f0d6be5914d434a9d7014ecd996a3a3"
  },
  "language_info": {
   "codemirror_mode": {
    "name": "ipython",
    "version": 3
   },
   "file_extension": ".py",
   "mimetype": "text/x-python",
   "name": "python",
   "nbconvert_exporter": "python",
   "pygments_lexer": "ipython3",
   "version": "3.7.4"
  }
 },
 "nbformat": 4,
 "nbformat_minor": 2
}
