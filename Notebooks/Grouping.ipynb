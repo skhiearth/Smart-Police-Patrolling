{
 "cells": [
  {
   "cell_type": "code",
   "execution_count": 1,
   "metadata": {},
   "outputs": [],
   "source": [
    "# Importing required libraries\n",
    "import pandas as pd\n",
    "import numpy as np"
   ]
  },
  {
   "cell_type": "code",
   "execution_count": 2,
   "metadata": {},
   "outputs": [
    {
     "name": "stdout",
     "output_type": "stream",
     "text": [
      "The dataset has 2160952 rows and 12 columns.\n"
     ]
    },
    {
     "data": {
      "text/html": [
       "<div>\n",
       "<style scoped>\n",
       "    .dataframe tbody tr th:only-of-type {\n",
       "        vertical-align: middle;\n",
       "    }\n",
       "\n",
       "    .dataframe tbody tr th {\n",
       "        vertical-align: top;\n",
       "    }\n",
       "\n",
       "    .dataframe thead th {\n",
       "        text-align: right;\n",
       "    }\n",
       "</style>\n",
       "<table border=\"1\" class=\"dataframe\">\n",
       "  <thead>\n",
       "    <tr style=\"text-align: right;\">\n",
       "      <th></th>\n",
       "      <th>district</th>\n",
       "      <th>day</th>\n",
       "      <th>time</th>\n",
       "      <th>month</th>\n",
       "    </tr>\n",
       "  </thead>\n",
       "  <tbody>\n",
       "    <tr>\n",
       "      <td>0</td>\n",
       "      <td>NORTHERN</td>\n",
       "      <td>Tuesday</td>\n",
       "      <td>13:53:00</td>\n",
       "      <td>11</td>\n",
       "    </tr>\n",
       "    <tr>\n",
       "      <td>1</td>\n",
       "      <td>TARAVAL</td>\n",
       "      <td>Tuesday</td>\n",
       "      <td>23:10:00</td>\n",
       "      <td>3</td>\n",
       "    </tr>\n",
       "    <tr>\n",
       "      <td>2</td>\n",
       "      <td>TARAVAL</td>\n",
       "      <td>Thursday</td>\n",
       "      <td>12:00:00</td>\n",
       "      <td>5</td>\n",
       "    </tr>\n",
       "  </tbody>\n",
       "</table>\n",
       "</div>"
      ],
      "text/plain": [
       "   district       day      time  month\n",
       "0  NORTHERN   Tuesday  13:53:00     11\n",
       "1   TARAVAL   Tuesday  23:10:00      3\n",
       "2   TARAVAL  Thursday  12:00:00      5"
      ]
     },
     "execution_count": 2,
     "metadata": {},
     "output_type": "execute_result"
    }
   ],
   "source": [
    "# Load the data\n",
    "df = pd.read_csv('../Dataset/sanFran_clean.csv')\n",
    "print(\"The dataset has {} rows and {} columns.\".format(df.shape[0], df.shape[1]))\n",
    "\n",
    "# Subset the dataset\n",
    "df = df[['district', 'day', 'time', 'month']]\n",
    "\n",
    "df.head(3)"
   ]
  },
  {
   "cell_type": "code",
   "execution_count": 3,
   "metadata": {},
   "outputs": [
    {
     "data": {
      "text/html": [
       "<div>\n",
       "<style scoped>\n",
       "    .dataframe tbody tr th:only-of-type {\n",
       "        vertical-align: middle;\n",
       "    }\n",
       "\n",
       "    .dataframe tbody tr th {\n",
       "        vertical-align: top;\n",
       "    }\n",
       "\n",
       "    .dataframe thead th {\n",
       "        text-align: right;\n",
       "    }\n",
       "</style>\n",
       "<table border=\"1\" class=\"dataframe\">\n",
       "  <thead>\n",
       "    <tr style=\"text-align: right;\">\n",
       "      <th></th>\n",
       "      <th>district</th>\n",
       "      <th>day</th>\n",
       "      <th>month</th>\n",
       "      <th>hour</th>\n",
       "    </tr>\n",
       "  </thead>\n",
       "  <tbody>\n",
       "    <tr>\n",
       "      <td>0</td>\n",
       "      <td>NORTHERN</td>\n",
       "      <td>Tuesday</td>\n",
       "      <td>11</td>\n",
       "      <td>13</td>\n",
       "    </tr>\n",
       "    <tr>\n",
       "      <td>1</td>\n",
       "      <td>TARAVAL</td>\n",
       "      <td>Tuesday</td>\n",
       "      <td>3</td>\n",
       "      <td>23</td>\n",
       "    </tr>\n",
       "  </tbody>\n",
       "</table>\n",
       "</div>"
      ],
      "text/plain": [
       "   district      day  month  hour\n",
       "0  NORTHERN  Tuesday     11    13\n",
       "1   TARAVAL  Tuesday      3    23"
      ]
     },
     "execution_count": 3,
     "metadata": {},
     "output_type": "execute_result"
    }
   ],
   "source": [
    "df['hour'] = pd.to_datetime(df['time']).dt.hour # Extract hour \n",
    "del df['time'] # Delete Original Time column\n",
    "df.head(2)"
   ]
  },
  {
   "cell_type": "code",
   "execution_count": 4,
   "metadata": {},
   "outputs": [
    {
     "name": "stdout",
     "output_type": "stream",
     "text": [
      "The dataset has 20160 rows and 5 columns.\n"
     ]
    },
    {
     "data": {
      "text/html": [
       "<div>\n",
       "<style scoped>\n",
       "    .dataframe tbody tr th:only-of-type {\n",
       "        vertical-align: middle;\n",
       "    }\n",
       "\n",
       "    .dataframe tbody tr th {\n",
       "        vertical-align: top;\n",
       "    }\n",
       "\n",
       "    .dataframe thead th {\n",
       "        text-align: right;\n",
       "    }\n",
       "</style>\n",
       "<table border=\"1\" class=\"dataframe\">\n",
       "  <thead>\n",
       "    <tr style=\"text-align: right;\">\n",
       "      <th></th>\n",
       "      <th>district</th>\n",
       "      <th>day</th>\n",
       "      <th>month</th>\n",
       "      <th>hour</th>\n",
       "      <th>Crime Occurences</th>\n",
       "    </tr>\n",
       "  </thead>\n",
       "  <tbody>\n",
       "    <tr>\n",
       "      <td>15858</td>\n",
       "      <td>SOUTHERN</td>\n",
       "      <td>Wednesday</td>\n",
       "      <td>1</td>\n",
       "      <td>18</td>\n",
       "      <td>391</td>\n",
       "    </tr>\n",
       "    <tr>\n",
       "      <td>15906</td>\n",
       "      <td>SOUTHERN</td>\n",
       "      <td>Wednesday</td>\n",
       "      <td>3</td>\n",
       "      <td>18</td>\n",
       "      <td>387</td>\n",
       "    </tr>\n",
       "    <tr>\n",
       "      <td>14298</td>\n",
       "      <td>SOUTHERN</td>\n",
       "      <td>Friday</td>\n",
       "      <td>8</td>\n",
       "      <td>18</td>\n",
       "      <td>383</td>\n",
       "    </tr>\n",
       "  </tbody>\n",
       "</table>\n",
       "</div>"
      ],
      "text/plain": [
       "       district        day  month  hour  Crime Occurences\n",
       "15858  SOUTHERN  Wednesday      1    18               391\n",
       "15906  SOUTHERN  Wednesday      3    18               387\n",
       "14298  SOUTHERN     Friday      8    18               383"
      ]
     },
     "execution_count": 4,
     "metadata": {},
     "output_type": "execute_result"
    }
   ],
   "source": [
    "# Counting crime occurences for a particular district on a given timestap\n",
    "df = df.groupby(df.columns.tolist()).size().reset_index().rename(columns={0:'Crime Occurences'})\n",
    "df[\"Crime Occurences\"] = pd.to_numeric(df[\"Crime Occurences\"]) # Convert to numeric values\n",
    "\n",
    "print(\"The dataset has {} rows and {} columns.\".format(df.shape[0], df.shape[1]))\n",
    "df = df.sort_values(by = ['Crime Occurences'], ascending = False) # Sort by Crime Occurences\n",
    "df.head(3)"
   ]
  },
  {
   "cell_type": "code",
   "execution_count": 10,
   "metadata": {},
   "outputs": [
    {
     "name": "stdout",
     "output_type": "stream",
     "text": [
      "Lowest     4118\n",
      "Low        4048\n",
      "Medium     4035\n",
      "High       3987\n",
      "Extreme    3972\n",
      "Name: Class, dtype: int64\n"
     ]
    },
    {
     "data": {
      "text/html": [
       "<div>\n",
       "<style scoped>\n",
       "    .dataframe tbody tr th:only-of-type {\n",
       "        vertical-align: middle;\n",
       "    }\n",
       "\n",
       "    .dataframe tbody tr th {\n",
       "        vertical-align: top;\n",
       "    }\n",
       "\n",
       "    .dataframe thead th {\n",
       "        text-align: right;\n",
       "    }\n",
       "</style>\n",
       "<table border=\"1\" class=\"dataframe\">\n",
       "  <thead>\n",
       "    <tr style=\"text-align: right;\">\n",
       "      <th></th>\n",
       "      <th>district</th>\n",
       "      <th>day</th>\n",
       "      <th>month</th>\n",
       "      <th>hour</th>\n",
       "      <th>Crime Occurences</th>\n",
       "      <th>Class</th>\n",
       "    </tr>\n",
       "  </thead>\n",
       "  <tbody>\n",
       "    <tr>\n",
       "      <td>3351</td>\n",
       "      <td>CENTRAL</td>\n",
       "      <td>Thursday</td>\n",
       "      <td>8</td>\n",
       "      <td>15</td>\n",
       "      <td>122</td>\n",
       "      <td>High</td>\n",
       "    </tr>\n",
       "    <tr>\n",
       "      <td>3198</td>\n",
       "      <td>CENTRAL</td>\n",
       "      <td>Thursday</td>\n",
       "      <td>2</td>\n",
       "      <td>6</td>\n",
       "      <td>40</td>\n",
       "      <td>Lowest</td>\n",
       "    </tr>\n",
       "    <tr>\n",
       "      <td>4877</td>\n",
       "      <td>INGLESIDE</td>\n",
       "      <td>Saturday</td>\n",
       "      <td>12</td>\n",
       "      <td>5</td>\n",
       "      <td>28</td>\n",
       "      <td>Lowest</td>\n",
       "    </tr>\n",
       "  </tbody>\n",
       "</table>\n",
       "</div>"
      ],
      "text/plain": [
       "       district       day  month  hour  Crime Occurences   Class\n",
       "3351    CENTRAL  Thursday      8    15               122    High\n",
       "3198    CENTRAL  Thursday      2     6                40  Lowest\n",
       "4877  INGLESIDE  Saturday     12     5                28  Lowest"
      ]
     },
     "execution_count": 10,
     "metadata": {},
     "output_type": "execute_result"
    }
   ],
   "source": [
    "# Binning data into quartiles\n",
    "bin_labels_5 = ['Lowest', 'Low', 'Medium', 'High', 'Extreme'] # Defining Quartile Labels\n",
    "df['Class'] = pd.qcut(df['Crime Occurences'], q=[0, .2, .4, .6, .8, 1], labels=bin_labels_5)\n",
    "\n",
    "print(df.Class.value_counts())\n",
    "df.sample(n=3) # Print five random rows for inspection "
   ]
  },
  {
   "cell_type": "code",
   "execution_count": 11,
   "metadata": {},
   "outputs": [],
   "source": [
    "# Saving dataset\n",
    "df.to_csv('../Dataset/classificationData.csv')"
   ]
  }
 ],
 "metadata": {
  "kernelspec": {
   "display_name": "Python 3",
   "language": "python",
   "name": "python3"
  },
  "language_info": {
   "codemirror_mode": {
    "name": "ipython",
    "version": 3
   },
   "file_extension": ".py",
   "mimetype": "text/x-python",
   "name": "python",
   "nbconvert_exporter": "python",
   "pygments_lexer": "ipython3",
   "version": "3.7.4"
  }
 },
 "nbformat": 4,
 "nbformat_minor": 2
}
