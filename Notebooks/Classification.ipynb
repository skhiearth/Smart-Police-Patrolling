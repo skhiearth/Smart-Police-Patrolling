{
 "cells": [
  {
   "cell_type": "code",
   "execution_count": 1,
   "metadata": {},
   "outputs": [],
   "source": [
    "# Importing required libraries\n",
    "import pandas as pd\n",
    "import numpy as np\n",
    "import warnings\n",
    "warnings.filterwarnings('ignore')"
   ]
  },
  {
   "cell_type": "code",
   "execution_count": 2,
   "metadata": {},
   "outputs": [
    {
     "name": "stdout",
     "output_type": "stream",
     "text": [
      "The dataset has 20160 rows and 7 columns.\n"
     ]
    },
    {
     "data": {
      "text/html": [
       "<div>\n",
       "<style scoped>\n",
       "    .dataframe tbody tr th:only-of-type {\n",
       "        vertical-align: middle;\n",
       "    }\n",
       "\n",
       "    .dataframe tbody tr th {\n",
       "        vertical-align: top;\n",
       "    }\n",
       "\n",
       "    .dataframe thead th {\n",
       "        text-align: right;\n",
       "    }\n",
       "</style>\n",
       "<table border=\"1\" class=\"dataframe\">\n",
       "  <thead>\n",
       "    <tr style=\"text-align: right;\">\n",
       "      <th></th>\n",
       "      <th>district</th>\n",
       "      <th>day</th>\n",
       "      <th>month</th>\n",
       "      <th>hour</th>\n",
       "      <th>Class</th>\n",
       "    </tr>\n",
       "  </thead>\n",
       "  <tbody>\n",
       "    <tr>\n",
       "      <td>0</td>\n",
       "      <td>SOUTHERN</td>\n",
       "      <td>Wednesday</td>\n",
       "      <td>1</td>\n",
       "      <td>18</td>\n",
       "      <td>Extreme</td>\n",
       "    </tr>\n",
       "    <tr>\n",
       "      <td>1</td>\n",
       "      <td>SOUTHERN</td>\n",
       "      <td>Wednesday</td>\n",
       "      <td>3</td>\n",
       "      <td>18</td>\n",
       "      <td>Extreme</td>\n",
       "    </tr>\n",
       "    <tr>\n",
       "      <td>2</td>\n",
       "      <td>SOUTHERN</td>\n",
       "      <td>Friday</td>\n",
       "      <td>8</td>\n",
       "      <td>18</td>\n",
       "      <td>Extreme</td>\n",
       "    </tr>\n",
       "  </tbody>\n",
       "</table>\n",
       "</div>"
      ],
      "text/plain": [
       "   district        day  month  hour    Class\n",
       "0  SOUTHERN  Wednesday      1    18  Extreme\n",
       "1  SOUTHERN  Wednesday      3    18  Extreme\n",
       "2  SOUTHERN     Friday      8    18  Extreme"
      ]
     },
     "execution_count": 2,
     "metadata": {},
     "output_type": "execute_result"
    }
   ],
   "source": [
    "# Load the data\n",
    "df = pd.read_csv('../Dataset/classificationData.csv')\n",
    "print(\"The dataset has {} rows and {} columns.\".format(df.shape[0], df.shape[1]))\n",
    "df = df.drop(df.columns[0], axis=1) # Drop first column\n",
    "\n",
    "del df['Crime Occurences']\n",
    "\n",
    "df.head(3)"
   ]
  },
  {
   "cell_type": "code",
   "execution_count": 3,
   "metadata": {},
   "outputs": [],
   "source": [
    "from sklearn.preprocessing import LabelEncoder\n",
    "y = df.iloc[:, -1].values\n",
    "le = LabelEncoder()\n",
    "y = le.fit_transform(y)"
   ]
  },
  {
   "cell_type": "code",
   "execution_count": 4,
   "metadata": {},
   "outputs": [],
   "source": [
    "%%capture\n",
    "df = pd.get_dummies(df, columns=['district', 'day'], drop_first=True)\n",
    "print(df.head())\n",
    "\n",
    "X = df.loc[:, df.columns != 'Class'].values;"
   ]
  },
  {
   "cell_type": "code",
   "execution_count": 5,
   "metadata": {},
   "outputs": [],
   "source": [
    "# Train-test split\n",
    "from sklearn.model_selection import train_test_split\n",
    "X_train, X_test, y_train, y_test = train_test_split(X, y, test_size = 0.1, random_state = 1)"
   ]
  },
  {
   "cell_type": "code",
   "execution_count": 6,
   "metadata": {},
   "outputs": [],
   "source": [
    "# Importing classification packages.\n",
    "from sklearn.linear_model import LogisticRegression\n",
    "from sklearn.tree import DecisionTreeClassifier\n",
    "from sklearn.neighbors import KNeighborsClassifier as KNN\n",
    "from sklearn.ensemble import VotingClassifier\n",
    "from sklearn.metrics import accuracy_score\n",
    "from sklearn.ensemble import RandomForestClassifier\n",
    "from sklearn.metrics import classification_report\n",
    "from xgboost import XGBClassifier\n",
    "\n",
    "SEED = 1 # Random Seed\n",
    "\n",
    "# Classification\n",
    "lr = LogisticRegression(random_state=SEED)\n",
    "knn = KNN()\n",
    "xg = XGBClassifier()\n",
    "dt = DecisionTreeClassifier(random_state=SEED)\n",
    "rf = RandomForestClassifier(random_state=SEED)\n",
    "\n",
    "# Define a list called classifier that contains the tuples (classifier_name, classifier)\n",
    "classifiers = [('Logistic Regression', lr),\n",
    "               ('K Nearest Neighbours', knn),\n",
    "               ('Classification Tree', dt),\n",
    "               ('Forest', rf),\n",
    "               ('XGB', xg)]"
   ]
  },
  {
   "cell_type": "code",
   "execution_count": 7,
   "metadata": {},
   "outputs": [
    {
     "name": "stdout",
     "output_type": "stream",
     "text": [
      "Logistic Regression :               precision    recall  f1-score   support\n",
      "\n",
      "           0       0.66      0.70      0.68       517\n",
      "           1       0.55      0.63      0.59       478\n",
      "           2       0.66      0.80      0.72       512\n",
      "           3       0.76      0.44      0.56       509\n",
      "\n",
      "    accuracy                           0.64      2016\n",
      "   macro avg       0.66      0.64      0.64      2016\n",
      "weighted avg       0.66      0.64      0.64      2016\n",
      "\n",
      "K Nearest Neighbours :               precision    recall  f1-score   support\n",
      "\n",
      "           0       0.79      0.84      0.82       517\n",
      "           1       0.62      0.64      0.63       478\n",
      "           2       0.83      0.88      0.86       512\n",
      "           3       0.71      0.60      0.65       509\n",
      "\n",
      "    accuracy                           0.74      2016\n",
      "   macro avg       0.74      0.74      0.74      2016\n",
      "weighted avg       0.74      0.74      0.74      2016\n",
      "\n",
      "Classification Tree :               precision    recall  f1-score   support\n",
      "\n",
      "           0       0.81      0.82      0.82       517\n",
      "           1       0.61      0.62      0.62       478\n",
      "           2       0.86      0.84      0.85       512\n",
      "           3       0.67      0.66      0.67       509\n",
      "\n",
      "    accuracy                           0.74      2016\n",
      "   macro avg       0.74      0.74      0.74      2016\n",
      "weighted avg       0.74      0.74      0.74      2016\n",
      "\n",
      "Forest :               precision    recall  f1-score   support\n",
      "\n",
      "           0       0.84      0.85      0.84       517\n",
      "           1       0.64      0.66      0.65       478\n",
      "           2       0.84      0.88      0.86       512\n",
      "           3       0.69      0.64      0.67       509\n",
      "\n",
      "    accuracy                           0.76      2016\n",
      "   macro avg       0.75      0.76      0.76      2016\n",
      "weighted avg       0.76      0.76      0.76      2016\n",
      "\n",
      "XGB :               precision    recall  f1-score   support\n",
      "\n",
      "           0       0.90      0.87      0.89       517\n",
      "           1       0.71      0.75      0.73       478\n",
      "           2       0.90      0.89      0.89       512\n",
      "           3       0.75      0.74      0.74       509\n",
      "\n",
      "    accuracy                           0.81      2016\n",
      "   macro avg       0.81      0.81      0.81      2016\n",
      "weighted avg       0.82      0.81      0.81      2016\n",
      "\n"
     ]
    }
   ],
   "source": [
    "# Iterating over the defined list of tuples containing the classifiers\n",
    "for clf_name, clf in classifiers:\n",
    "    # Fitting\n",
    "    clf.fit(X_train, y_train)\n",
    "    # Predicting\n",
    "    y_pred = clf.predict(X_test)\n",
    "    \n",
    "    print('{:s} : {:s}'.format(clf_name, classification_report(y_test, y_pred)))"
   ]
  }
 ],
 "metadata": {
  "kernelspec": {
   "display_name": "Python 3.7.4 64-bit ('base': conda)",
   "language": "python",
   "name": "python37464bitbaseconda3f0d6be5914d434a9d7014ecd996a3a3"
  },
  "language_info": {
   "codemirror_mode": {
    "name": "ipython",
    "version": 3
   },
   "file_extension": ".py",
   "mimetype": "text/x-python",
   "name": "python",
   "nbconvert_exporter": "python",
   "pygments_lexer": "ipython3",
   "version": "3.7.4"
  }
 },
 "nbformat": 4,
 "nbformat_minor": 2
}
