{
 "cells": [
  {
   "cell_type": "code",
   "execution_count": 1,
   "metadata": {},
   "outputs": [],
   "source": [
    "# Importing the packages\n",
    "\n",
    "import pandas as pd\n",
    "import numpy as pd\n",
    "import matplotlib.pyplot as plt\n",
    "import seaborn as sns\n",
    "import time\n",
    "import os"
   ]
  },
  {
   "cell_type": "code",
   "execution_count": 2,
   "metadata": {},
   "outputs": [
    {
     "name": "stdout",
     "output_type": "stream",
     "text": [
      "The dataset has 2215024 rows and 33 columns.\n"
     ]
    }
   ],
   "source": [
    "# Reading the dataset\n",
    "\n",
    "import pandas as pd\n",
    "df = pd.read_csv('../Dataset/sanFran.csv')\n",
    "print(\"The dataset has {} rows and {} columns.\".format(df.shape[0], df.shape[1]))"
   ]
  },
  {
   "cell_type": "code",
   "execution_count": 3,
   "metadata": {},
   "outputs": [
    {
     "data": {
      "text/html": [
       "<div>\n",
       "<style scoped>\n",
       "    .dataframe tbody tr th:only-of-type {\n",
       "        vertical-align: middle;\n",
       "    }\n",
       "\n",
       "    .dataframe tbody tr th {\n",
       "        vertical-align: top;\n",
       "    }\n",
       "\n",
       "    .dataframe thead th {\n",
       "        text-align: right;\n",
       "    }\n",
       "</style>\n",
       "<table border=\"1\" class=\"dataframe\">\n",
       "  <thead>\n",
       "    <tr style=\"text-align: right;\">\n",
       "      <th></th>\n",
       "      <th>DayOfWeek</th>\n",
       "      <th>Date</th>\n",
       "      <th>Time</th>\n",
       "      <th>PdDistrict</th>\n",
       "      <th>Resolution</th>\n",
       "      <th>X</th>\n",
       "      <th>Y</th>\n",
       "      <th>Location</th>\n",
       "    </tr>\n",
       "  </thead>\n",
       "  <tbody>\n",
       "    <tr>\n",
       "      <td>0</td>\n",
       "      <td>Friday</td>\n",
       "      <td>04/15/2011</td>\n",
       "      <td>16:00</td>\n",
       "      <td>TARAVAL</td>\n",
       "      <td>LOCATED</td>\n",
       "      <td>-122.476328</td>\n",
       "      <td>37.719687</td>\n",
       "      <td>POINT (-122.476327815126 37.7196874952717)</td>\n",
       "    </tr>\n",
       "    <tr>\n",
       "      <td>1</td>\n",
       "      <td>Thursday</td>\n",
       "      <td>03/26/2009</td>\n",
       "      <td>12:28</td>\n",
       "      <td>SOUTHERN</td>\n",
       "      <td>ARREST, BOOKED</td>\n",
       "      <td>-122.411340</td>\n",
       "      <td>37.781271</td>\n",
       "      <td>POINT (-122.411339562557 37.7812707434494)</td>\n",
       "    </tr>\n",
       "    <tr>\n",
       "      <td>2</td>\n",
       "      <td>Friday</td>\n",
       "      <td>02/15/2013</td>\n",
       "      <td>02:00</td>\n",
       "      <td>PARK</td>\n",
       "      <td>ARREST, BOOKED</td>\n",
       "      <td>-122.435188</td>\n",
       "      <td>37.762670</td>\n",
       "      <td>POINT (-122.435187699349 37.7626702770872)</td>\n",
       "    </tr>\n",
       "  </tbody>\n",
       "</table>\n",
       "</div>"
      ],
      "text/plain": [
       "  DayOfWeek        Date   Time PdDistrict      Resolution           X  \\\n",
       "0    Friday  04/15/2011  16:00    TARAVAL         LOCATED -122.476328   \n",
       "1  Thursday  03/26/2009  12:28   SOUTHERN  ARREST, BOOKED -122.411340   \n",
       "2    Friday  02/15/2013  02:00       PARK  ARREST, BOOKED -122.435188   \n",
       "\n",
       "           Y                                    Location  \n",
       "0  37.719687  POINT (-122.476327815126 37.7196874952717)  \n",
       "1  37.781271  POINT (-122.411339562557 37.7812707434494)  \n",
       "2  37.762670  POINT (-122.435187699349 37.7626702770872)  "
      ]
     },
     "execution_count": 3,
     "metadata": {},
     "output_type": "execute_result"
    }
   ],
   "source": [
    "# Selecting wanted attributes from the dataset\n",
    "\n",
    "df = df[['DayOfWeek', 'Date', 'Time', 'PdDistrict', 'Resolution', 'X', 'Y', 'Location']]\n",
    "df.head(3)"
   ]
  },
  {
   "cell_type": "code",
   "execution_count": 4,
   "metadata": {},
   "outputs": [],
   "source": [
    "# Converting dates to datetime format and extracting details\n",
    "\n",
    "df['DateTime'] = df['Date'] + \" \" + df['Time']\n",
    "df['DateTime'] = pd.to_datetime(df['DateTime']) \n",
    "\n",
    "df['year'] = pd.DatetimeIndex(df['DateTime']).year\n",
    "df['month'] = pd.DatetimeIndex(df['DateTime']).month\n",
    "df['date'] = pd.DatetimeIndex(df['DateTime']).date\n",
    "df['time'] = pd.DatetimeIndex(df['DateTime']).time"
   ]
  },
  {
   "cell_type": "code",
   "execution_count": 5,
   "metadata": {},
   "outputs": [],
   "source": [
    "# Re-selecting wanted attributes from the dataset\n",
    "\n",
    "df = df[['DayOfWeek', 'PdDistrict', 'Resolution', 'X', 'Y', 'Location', 'DateTime', 'year', 'month', 'date', 'time']]"
   ]
  },
  {
   "cell_type": "code",
   "execution_count": 6,
   "metadata": {},
   "outputs": [
    {
     "name": "stdout",
     "output_type": "stream",
     "text": [
      "Index(['day', 'district', 'result', 'x', 'y', 'location', 'datetime', 'year',\n",
      "       'month', 'date', 'time'],\n",
      "      dtype='object')\n"
     ]
    }
   ],
   "source": [
    "# Changing the column names for ease\n",
    "\n",
    "df.columns = ['day', 'district', 'result', 'x', 'y', 'location', 'datetime', 'year', 'month', 'date', 'time']\n",
    "print(df.columns)"
   ]
  },
  {
   "cell_type": "code",
   "execution_count": 7,
   "metadata": {},
   "outputs": [
    {
     "name": "stdout",
     "output_type": "stream",
     "text": [
      "The dataframe has 2215024 rows and 11 columns.\n"
     ]
    },
    {
     "data": {
      "text/html": [
       "<div>\n",
       "<style scoped>\n",
       "    .dataframe tbody tr th:only-of-type {\n",
       "        vertical-align: middle;\n",
       "    }\n",
       "\n",
       "    .dataframe tbody tr th {\n",
       "        vertical-align: top;\n",
       "    }\n",
       "\n",
       "    .dataframe thead th {\n",
       "        text-align: right;\n",
       "    }\n",
       "</style>\n",
       "<table border=\"1\" class=\"dataframe\">\n",
       "  <thead>\n",
       "    <tr style=\"text-align: right;\">\n",
       "      <th></th>\n",
       "      <th>day</th>\n",
       "      <th>district</th>\n",
       "      <th>result</th>\n",
       "      <th>x</th>\n",
       "      <th>y</th>\n",
       "      <th>location</th>\n",
       "      <th>datetime</th>\n",
       "      <th>year</th>\n",
       "      <th>month</th>\n",
       "      <th>date</th>\n",
       "      <th>time</th>\n",
       "    </tr>\n",
       "  </thead>\n",
       "  <tbody>\n",
       "    <tr>\n",
       "      <td>0</td>\n",
       "      <td>Friday</td>\n",
       "      <td>TARAVAL</td>\n",
       "      <td>LOCATED</td>\n",
       "      <td>-122.476328</td>\n",
       "      <td>37.719687</td>\n",
       "      <td>POINT (-122.476327815126 37.7196874952717)</td>\n",
       "      <td>2011-04-15 16:00:00</td>\n",
       "      <td>2011</td>\n",
       "      <td>4</td>\n",
       "      <td>2011-04-15</td>\n",
       "      <td>16:00:00</td>\n",
       "    </tr>\n",
       "    <tr>\n",
       "      <td>1</td>\n",
       "      <td>Thursday</td>\n",
       "      <td>SOUTHERN</td>\n",
       "      <td>ARREST, BOOKED</td>\n",
       "      <td>-122.411340</td>\n",
       "      <td>37.781271</td>\n",
       "      <td>POINT (-122.411339562557 37.7812707434494)</td>\n",
       "      <td>2009-03-26 12:28:00</td>\n",
       "      <td>2009</td>\n",
       "      <td>3</td>\n",
       "      <td>2009-03-26</td>\n",
       "      <td>12:28:00</td>\n",
       "    </tr>\n",
       "  </tbody>\n",
       "</table>\n",
       "</div>"
      ],
      "text/plain": [
       "        day  district          result           x          y  \\\n",
       "0    Friday   TARAVAL         LOCATED -122.476328  37.719687   \n",
       "1  Thursday  SOUTHERN  ARREST, BOOKED -122.411340  37.781271   \n",
       "\n",
       "                                     location            datetime  year  \\\n",
       "0  POINT (-122.476327815126 37.7196874952717) 2011-04-15 16:00:00  2011   \n",
       "1  POINT (-122.411339562557 37.7812707434494) 2009-03-26 12:28:00  2009   \n",
       "\n",
       "   month        date      time  \n",
       "0      4  2011-04-15  16:00:00  \n",
       "1      3  2009-03-26  12:28:00  "
      ]
     },
     "execution_count": 7,
     "metadata": {},
     "output_type": "execute_result"
    }
   ],
   "source": [
    "# Inspecting the data\n",
    "\n",
    "print(\"The dataframe has {} rows and {} columns.\".format(df.shape[0], df.shape[1]))\n",
    "df.head(2)"
   ]
  },
  {
   "cell_type": "code",
   "execution_count": 8,
   "metadata": {},
   "outputs": [
    {
     "data": {
      "text/plain": [
       "SOUTHERN      399785\n",
       "MISSION       300076\n",
       "NORTHERN      272713\n",
       "CENTRAL       226255\n",
       "BAYVIEW       221000\n",
       "INGLESIDE     194180\n",
       "TENDERLOIN    191746\n",
       "TARAVAL       166971\n",
       "PARK          125479\n",
       "RICHMOND      116818\n",
       "Name: district, dtype: int64"
      ]
     },
     "execution_count": 8,
     "metadata": {},
     "output_type": "execute_result"
    }
   ],
   "source": [
    "# Inspecting neighbourhood counts\n",
    "\n",
    "df.district.value_counts()"
   ]
  },
  {
   "cell_type": "code",
   "execution_count": 9,
   "metadata": {},
   "outputs": [
    {
     "data": {
      "text/plain": [
       "2015    156526\n",
       "2017    154773\n",
       "2013    152806\n",
       "2016    150883\n",
       "2014    150128\n",
       "2003    149176\n",
       "2004    148148\n",
       "2005    142186\n",
       "2008    141311\n",
       "2012    140847\n",
       "2009    139860\n",
       "2006    137853\n",
       "2007    137639\n",
       "2010    133523\n",
       "2011    132697\n",
       "2018     46668\n",
       "Name: year, dtype: int64"
      ]
     },
     "execution_count": 9,
     "metadata": {},
     "output_type": "execute_result"
    }
   ],
   "source": [
    "# Inspecting year counts\n",
    "\n",
    "df.year.value_counts()"
   ]
  },
  {
   "cell_type": "code",
   "execution_count": 10,
   "metadata": {},
   "outputs": [
    {
     "data": {
      "text/plain": [
       "day         0\n",
       "district    1\n",
       "result      0\n",
       "x           0\n",
       "y           0\n",
       "location    0\n",
       "datetime    0\n",
       "year        0\n",
       "month       0\n",
       "date        0\n",
       "time        0\n",
       "dtype: int64"
      ]
     },
     "execution_count": 10,
     "metadata": {},
     "output_type": "execute_result"
    }
   ],
   "source": [
    "# Checking for null values\n",
    "\n",
    "df.isnull().sum()"
   ]
  },
  {
   "cell_type": "code",
   "execution_count": 11,
   "metadata": {},
   "outputs": [],
   "source": [
    "df = df[df['district'].notna()]"
   ]
  },
  {
   "cell_type": "code",
   "execution_count": 12,
   "metadata": {},
   "outputs": [],
   "source": [
    "# Saving the clean dataset\n",
    "\n",
    "df.to_csv('../Dataset/sanFran_clean.csv')"
   ]
  }
 ],
 "metadata": {
  "kernelspec": {
   "display_name": "Python 3",
   "language": "python",
   "name": "python3"
  },
  "language_info": {
   "codemirror_mode": {
    "name": "ipython",
    "version": 3
   },
   "file_extension": ".py",
   "mimetype": "text/x-python",
   "name": "python",
   "nbconvert_exporter": "python",
   "pygments_lexer": "ipython3",
   "version": "3.7.4"
  }
 },
 "nbformat": 4,
 "nbformat_minor": 2
}
