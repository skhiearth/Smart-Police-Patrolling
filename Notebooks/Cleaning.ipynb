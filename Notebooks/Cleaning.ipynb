{
 "cells": [
  {
   "cell_type": "code",
   "execution_count": 1,
   "metadata": {},
   "outputs": [],
   "source": [
    "# Importing the packages\n",
    "\n",
    "import pandas as pd\n",
    "import numpy as pd\n",
    "import matplotlib.pyplot as plt\n",
    "import seaborn as sns\n",
    "import time\n",
    "import os"
   ]
  },
  {
   "cell_type": "code",
   "execution_count": 2,
   "metadata": {},
   "outputs": [
    {
     "name": "stdout",
     "output_type": "stream",
     "text": [
      "The dataset has 2160953 rows and 35 columns.\n"
     ]
    }
   ],
   "source": [
    "# Reading the dataset\n",
    "\n",
    "import pandas as pd\n",
    "df = pd.read_csv('../Dataset/sanFran.csv')\n",
    "print(\"The dataset has {} rows and {} columns.\".format(df.shape[0], df.shape[1]))"
   ]
  },
  {
   "cell_type": "code",
   "execution_count": 3,
   "metadata": {},
   "outputs": [
    {
     "data": {
      "text/html": [
       "<div>\n",
       "<style scoped>\n",
       "    .dataframe tbody tr th:only-of-type {\n",
       "        vertical-align: middle;\n",
       "    }\n",
       "\n",
       "    .dataframe tbody tr th {\n",
       "        vertical-align: top;\n",
       "    }\n",
       "\n",
       "    .dataframe thead th {\n",
       "        text-align: right;\n",
       "    }\n",
       "</style>\n",
       "<table border=\"1\" class=\"dataframe\">\n",
       "  <thead>\n",
       "    <tr style=\"text-align: right;\">\n",
       "      <th></th>\n",
       "      <th>DayOfWeek</th>\n",
       "      <th>Date</th>\n",
       "      <th>Time</th>\n",
       "      <th>PdDistrict</th>\n",
       "      <th>Resolution</th>\n",
       "      <th>X</th>\n",
       "      <th>Y</th>\n",
       "      <th>location</th>\n",
       "    </tr>\n",
       "  </thead>\n",
       "  <tbody>\n",
       "    <tr>\n",
       "      <td>0</td>\n",
       "      <td>Tuesday</td>\n",
       "      <td>11/27/2007</td>\n",
       "      <td>13:53</td>\n",
       "      <td>NORTHERN</td>\n",
       "      <td>ARREST, CITED</td>\n",
       "      <td>-122.419821</td>\n",
       "      <td>37.782009</td>\n",
       "      <td>POINT (-122.41982062806301 37.782008780606)</td>\n",
       "    </tr>\n",
       "    <tr>\n",
       "      <td>1</td>\n",
       "      <td>Tuesday</td>\n",
       "      <td>03/20/2007</td>\n",
       "      <td>23:10</td>\n",
       "      <td>TARAVAL</td>\n",
       "      <td>NONE</td>\n",
       "      <td>-122.471221</td>\n",
       "      <td>37.742297</td>\n",
       "      <td>POINT (-122.47122106942999 37.7422967951105)</td>\n",
       "    </tr>\n",
       "    <tr>\n",
       "      <td>2</td>\n",
       "      <td>Thursday</td>\n",
       "      <td>05/20/2004</td>\n",
       "      <td>12:00</td>\n",
       "      <td>TARAVAL</td>\n",
       "      <td>NONE</td>\n",
       "      <td>-122.475288</td>\n",
       "      <td>37.737453</td>\n",
       "      <td>POINT (-122.475287886017 37.7374527165306)</td>\n",
       "    </tr>\n",
       "    <tr>\n",
       "      <td>3</td>\n",
       "      <td>Thursday</td>\n",
       "      <td>07/17/2003</td>\n",
       "      <td>17:35</td>\n",
       "      <td>INGLESIDE</td>\n",
       "      <td>PROSECUTED BY OUTSIDE AGENCY</td>\n",
       "      <td>-122.423538</td>\n",
       "      <td>37.743834</td>\n",
       "      <td>POINT (-122.42353834343699 37.743834466729)</td>\n",
       "    </tr>\n",
       "    <tr>\n",
       "      <td>4</td>\n",
       "      <td>Thursday</td>\n",
       "      <td>08/15/2013</td>\n",
       "      <td>04:42</td>\n",
       "      <td>SOUTHERN</td>\n",
       "      <td>NONE</td>\n",
       "      <td>-122.403631</td>\n",
       "      <td>37.766658</td>\n",
       "      <td>POINT (-122.40363116222801 37.7666581536244)</td>\n",
       "    </tr>\n",
       "  </tbody>\n",
       "</table>\n",
       "</div>"
      ],
      "text/plain": [
       "  DayOfWeek        Date   Time PdDistrict                    Resolution  \\\n",
       "0   Tuesday  11/27/2007  13:53   NORTHERN                 ARREST, CITED   \n",
       "1   Tuesday  03/20/2007  23:10    TARAVAL                          NONE   \n",
       "2  Thursday  05/20/2004  12:00    TARAVAL                          NONE   \n",
       "3  Thursday  07/17/2003  17:35  INGLESIDE  PROSECUTED BY OUTSIDE AGENCY   \n",
       "4  Thursday  08/15/2013  04:42   SOUTHERN                          NONE   \n",
       "\n",
       "            X          Y                                      location  \n",
       "0 -122.419821  37.782009   POINT (-122.41982062806301 37.782008780606)  \n",
       "1 -122.471221  37.742297  POINT (-122.47122106942999 37.7422967951105)  \n",
       "2 -122.475288  37.737453    POINT (-122.475287886017 37.7374527165306)  \n",
       "3 -122.423538  37.743834   POINT (-122.42353834343699 37.743834466729)  \n",
       "4 -122.403631  37.766658  POINT (-122.40363116222801 37.7666581536244)  "
      ]
     },
     "execution_count": 3,
     "metadata": {},
     "output_type": "execute_result"
    }
   ],
   "source": [
    "# Selecting wanted attributes from the dataset\n",
    "\n",
    "df = df[['DayOfWeek', 'Date', 'Time', 'PdDistrict', 'Resolution', 'X', 'Y', 'location']]\n",
    "df.head(5)"
   ]
  },
  {
   "cell_type": "code",
   "execution_count": 4,
   "metadata": {},
   "outputs": [],
   "source": [
    "# Converting dates to datetime format and extracting details\n",
    "\n",
    "df['DateTime'] = df['Date'] + \" \" + df['Time']\n",
    "df['DateTime'] = pd.to_datetime(df['DateTime']) \n",
    "\n",
    "df['year'] = pd.DatetimeIndex(df['DateTime']).year\n",
    "df['month'] = pd.DatetimeIndex(df['DateTime']).month\n",
    "df['date'] = pd.DatetimeIndex(df['DateTime']).date\n",
    "df['time'] = pd.DatetimeIndex(df['DateTime']).time"
   ]
  },
  {
   "cell_type": "code",
   "execution_count": 5,
   "metadata": {},
   "outputs": [],
   "source": [
    "# Re-selecting wanted attributes from the dataset\n",
    "\n",
    "df = df[['DayOfWeek', 'PdDistrict', 'Resolution', 'X', 'Y', 'location', 'DateTime', 'year', 'month', 'date', 'time']]"
   ]
  },
  {
   "cell_type": "code",
   "execution_count": 6,
   "metadata": {},
   "outputs": [
    {
     "name": "stdout",
     "output_type": "stream",
     "text": [
      "Index(['day', 'district', 'result', 'x', 'y', 'location', 'datetime', 'year',\n",
      "       'month', 'date', 'time'],\n",
      "      dtype='object')\n"
     ]
    }
   ],
   "source": [
    "# Changing the column names for ease\n",
    "\n",
    "df.columns = ['day', 'district', 'result', 'x', 'y', 'location', 'datetime', 'year', 'month', 'date', 'time']\n",
    "print(df.columns)"
   ]
  },
  {
   "cell_type": "code",
   "execution_count": 7,
   "metadata": {},
   "outputs": [
    {
     "name": "stdout",
     "output_type": "stream",
     "text": [
      "The dataframe has 2160953 rows and 11 columns.\n"
     ]
    },
    {
     "data": {
      "text/html": [
       "<div>\n",
       "<style scoped>\n",
       "    .dataframe tbody tr th:only-of-type {\n",
       "        vertical-align: middle;\n",
       "    }\n",
       "\n",
       "    .dataframe tbody tr th {\n",
       "        vertical-align: top;\n",
       "    }\n",
       "\n",
       "    .dataframe thead th {\n",
       "        text-align: right;\n",
       "    }\n",
       "</style>\n",
       "<table border=\"1\" class=\"dataframe\">\n",
       "  <thead>\n",
       "    <tr style=\"text-align: right;\">\n",
       "      <th></th>\n",
       "      <th>day</th>\n",
       "      <th>district</th>\n",
       "      <th>result</th>\n",
       "      <th>x</th>\n",
       "      <th>y</th>\n",
       "      <th>location</th>\n",
       "      <th>datetime</th>\n",
       "      <th>year</th>\n",
       "      <th>month</th>\n",
       "      <th>date</th>\n",
       "      <th>time</th>\n",
       "    </tr>\n",
       "  </thead>\n",
       "  <tbody>\n",
       "    <tr>\n",
       "      <td>0</td>\n",
       "      <td>Tuesday</td>\n",
       "      <td>NORTHERN</td>\n",
       "      <td>ARREST, CITED</td>\n",
       "      <td>-122.419821</td>\n",
       "      <td>37.782009</td>\n",
       "      <td>POINT (-122.41982062806301 37.782008780606)</td>\n",
       "      <td>2007-11-27 13:53:00</td>\n",
       "      <td>2007</td>\n",
       "      <td>11</td>\n",
       "      <td>2007-11-27</td>\n",
       "      <td>13:53:00</td>\n",
       "    </tr>\n",
       "    <tr>\n",
       "      <td>1</td>\n",
       "      <td>Tuesday</td>\n",
       "      <td>TARAVAL</td>\n",
       "      <td>NONE</td>\n",
       "      <td>-122.471221</td>\n",
       "      <td>37.742297</td>\n",
       "      <td>POINT (-122.47122106942999 37.7422967951105)</td>\n",
       "      <td>2007-03-20 23:10:00</td>\n",
       "      <td>2007</td>\n",
       "      <td>3</td>\n",
       "      <td>2007-03-20</td>\n",
       "      <td>23:10:00</td>\n",
       "    </tr>\n",
       "  </tbody>\n",
       "</table>\n",
       "</div>"
      ],
      "text/plain": [
       "       day  district         result           x          y  \\\n",
       "0  Tuesday  NORTHERN  ARREST, CITED -122.419821  37.782009   \n",
       "1  Tuesday   TARAVAL           NONE -122.471221  37.742297   \n",
       "\n",
       "                                       location            datetime  year  \\\n",
       "0   POINT (-122.41982062806301 37.782008780606) 2007-11-27 13:53:00  2007   \n",
       "1  POINT (-122.47122106942999 37.7422967951105) 2007-03-20 23:10:00  2007   \n",
       "\n",
       "   month        date      time  \n",
       "0     11  2007-11-27  13:53:00  \n",
       "1      3  2007-03-20  23:10:00  "
      ]
     },
     "execution_count": 7,
     "metadata": {},
     "output_type": "execute_result"
    }
   ],
   "source": [
    "# Inspecting the data\n",
    "\n",
    "print(\"The dataframe has {} rows and {} columns.\".format(df.shape[0], df.shape[1]))\n",
    "df.head(2)"
   ]
  },
  {
   "cell_type": "code",
   "execution_count": 8,
   "metadata": {},
   "outputs": [
    {
     "data": {
      "text/plain": [
       "SOUTHERN      394234\n",
       "MISSION       293072\n",
       "NORTHERN      269229\n",
       "CENTRAL       223962\n",
       "BAYVIEW       210729\n",
       "TENDERLOIN    189034\n",
       "INGLESIDE     186645\n",
       "TARAVAL       158710\n",
       "PARK          121070\n",
       "RICHMOND      114267\n",
       "Name: district, dtype: int64"
      ]
     },
     "execution_count": 8,
     "metadata": {},
     "output_type": "execute_result"
    }
   ],
   "source": [
    "# Inspecting neighbourhood counts\n",
    "\n",
    "df.district.value_counts()"
   ]
  },
  {
   "cell_type": "code",
   "execution_count": 9,
   "metadata": {},
   "outputs": [
    {
     "data": {
      "text/plain": [
       "2015    153771\n",
       "2017    151759\n",
       "2013    149639\n",
       "2016    148379\n",
       "2014    147056\n",
       "2003    145073\n",
       "2004    144323\n",
       "2005    138807\n",
       "2012    137334\n",
       "2008    137113\n",
       "2009    136218\n",
       "2006    133726\n",
       "2007    133601\n",
       "2010    129750\n",
       "2011    128563\n",
       "2018     45841\n",
       "Name: year, dtype: int64"
      ]
     },
     "execution_count": 9,
     "metadata": {},
     "output_type": "execute_result"
    }
   ],
   "source": [
    "# Inspecting year counts\n",
    "\n",
    "df.year.value_counts()"
   ]
  },
  {
   "cell_type": "code",
   "execution_count": 10,
   "metadata": {},
   "outputs": [
    {
     "data": {
      "text/plain": [
       "day         0\n",
       "district    1\n",
       "result      0\n",
       "x           0\n",
       "y           0\n",
       "location    0\n",
       "datetime    0\n",
       "year        0\n",
       "month       0\n",
       "date        0\n",
       "time        0\n",
       "dtype: int64"
      ]
     },
     "execution_count": 10,
     "metadata": {},
     "output_type": "execute_result"
    }
   ],
   "source": [
    "# Checking for null values\n",
    "\n",
    "df.isnull().sum()"
   ]
  },
  {
   "cell_type": "code",
   "execution_count": 11,
   "metadata": {},
   "outputs": [],
   "source": [
    "df = df[df['district'].notna()]"
   ]
  },
  {
   "cell_type": "code",
   "execution_count": 12,
   "metadata": {},
   "outputs": [],
   "source": [
    "# Saving the clean dataset\n",
    "\n",
    "df.to_csv('../Dataset/sanFran_clean.csv')"
   ]
  }
 ],
 "metadata": {
  "kernelspec": {
   "display_name": "Python 3",
   "language": "python",
   "name": "python3"
  },
  "language_info": {
   "codemirror_mode": {
    "name": "ipython",
    "version": 3
   },
   "file_extension": ".py",
   "mimetype": "text/x-python",
   "name": "python",
   "nbconvert_exporter": "python",
   "pygments_lexer": "ipython3",
   "version": "3.7.4"
  }
 },
 "nbformat": 4,
 "nbformat_minor": 2
}
